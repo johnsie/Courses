{
 "cells": [
  {
   "cell_type": "code",
   "execution_count": 1,
   "metadata": {
    "_cell_guid": "b1076dfc-b9ad-4769-8c92-a6c4dae69d19",
    "_uuid": "8f2839f25d086af736a60e9eeb907d3b93b6e0e5",
    "execution": {
     "iopub.execute_input": "2022-07-27T07:35:32.141656Z",
     "iopub.status.busy": "2022-07-27T07:35:32.141224Z",
     "iopub.status.idle": "2022-07-27T07:35:32.146374Z",
     "shell.execute_reply": "2022-07-27T07:35:32.145175Z",
     "shell.execute_reply.started": "2022-07-27T07:35:32.141603Z"
    }
   },
   "outputs": [],
   "source": [
    "import json"
   ]
  },
  {
   "cell_type": "code",
   "execution_count": 2,
   "metadata": {
    "execution": {
     "iopub.execute_input": "2022-07-27T07:35:32.171782Z",
     "iopub.status.busy": "2022-07-27T07:35:32.171175Z",
     "iopub.status.idle": "2022-07-27T07:35:32.176323Z",
     "shell.execute_reply": "2022-07-27T07:35:32.175247Z",
     "shell.execute_reply.started": "2022-07-27T07:35:32.171729Z"
    }
   },
   "outputs": [],
   "source": [
    "# What would you like to find?\n",
    "line_to_match = \"coffee\"\n",
    "character = \"JANEWAY\"\n",
    "series = \"VOY\""
   ]
  },
  {
   "cell_type": "code",
   "execution_count": 3,
   "metadata": {
    "_cell_guid": "79c7e3d0-c299-4dcb-8224-4455121ee9b0",
    "_uuid": "d629ff2d2480ee46fbb7e2d37f6b5fab8052498a",
    "execution": {
     "iopub.execute_input": "2022-07-27T07:35:32.201253Z",
     "iopub.status.busy": "2022-07-27T07:35:32.200827Z",
     "iopub.status.idle": "2022-07-27T07:35:32.620302Z",
     "shell.execute_reply": "2022-07-27T07:35:32.618926Z",
     "shell.execute_reply.started": "2022-07-27T07:35:32.201197Z"
    }
   },
   "outputs": [],
   "source": [
    "data = json.load(open('/kaggle/input/start-trek-scripts/all_series_lines.json', 'r'))"
   ]
  },
  {
   "cell_type": "code",
   "execution_count": 4,
   "metadata": {
    "execution": {
     "iopub.execute_input": "2022-07-27T07:35:32.623695Z",
     "iopub.status.busy": "2022-07-27T07:35:32.623144Z",
     "iopub.status.idle": "2022-07-27T07:35:32.629623Z",
     "shell.execute_reply": "2022-07-27T07:35:32.628641Z",
     "shell.execute_reply.started": "2022-07-27T07:35:32.623606Z"
    }
   },
   "outputs": [
    {
     "name": "stdout",
     "output_type": "stream",
     "text": [
      "160\n"
     ]
    }
   ],
   "source": [
    "# Double check number of Episodes\n",
    "print(len(data[series].keys()))"
   ]
  },
  {
   "cell_type": "code",
   "execution_count": 5,
   "metadata": {
    "execution": {
     "iopub.execute_input": "2022-07-27T07:35:32.631425Z",
     "iopub.status.busy": "2022-07-27T07:35:32.630933Z",
     "iopub.status.idle": "2022-07-27T07:35:32.642631Z",
     "shell.execute_reply": "2022-07-27T07:35:32.641527Z",
     "shell.execute_reply.started": "2022-07-27T07:35:32.631364Z"
    }
   },
   "outputs": [],
   "source": [
    "# Thats actually 2-less than the actual episode count, but that's caused by\n",
    "# Encounter at Farpoint & All Good Things ... being combined.\n",
    "# Two-part series than span two seasons are considered single episodes"
   ]
  },
  {
   "cell_type": "code",
   "execution_count": 6,
   "metadata": {
    "execution": {
     "iopub.execute_input": "2022-07-27T07:35:32.644933Z",
     "iopub.status.busy": "2022-07-27T07:35:32.644568Z",
     "iopub.status.idle": "2022-07-27T07:35:32.668294Z",
     "shell.execute_reply": "2022-07-27T07:35:32.667044Z",
     "shell.execute_reply.started": "2022-07-27T07:35:32.644884Z"
    }
   },
   "outputs": [],
   "source": [
    "matching_lines = []\n",
    "tng_episodes = data[series].keys()\n",
    "for ep in tng_episodes:\n",
    "    script = data[series][ep]\n",
    "    character_lines = script[character]\n",
    "    \n",
    "    for l in character_lines:\n",
    "        if line_to_match in l.lower():\n",
    "            matching_lines.append((ep, l))"
   ]
  },
  {
   "cell_type": "code",
   "execution_count": null,
   "metadata": {
    "execution": {
     "iopub.execute_input": "2022-07-27T07:35:32.672093Z",
     "iopub.status.busy": "2022-07-27T07:35:32.671523Z",
     "iopub.status.idle": "2022-07-27T07:35:32.703210Z",
     "shell.execute_reply": "2022-07-27T07:35:32.702127Z",
     "shell.execute_reply.started": "2022-07-27T07:35:32.672040Z"
    }
   },
   "outputs": [],
   "source": []
  },
  {
   "cell_type": "code",
   "execution_count": 7,
   "metadata": {
    "execution": {
     "iopub.execute_input": "2022-07-27T07:35:32.705379Z",
     "iopub.status.busy": "2022-07-27T07:35:32.705019Z",
     "iopub.status.idle": "2022-07-27T07:35:32.721218Z",
     "shell.execute_reply": "2022-07-27T07:35:32.719805Z",
     "shell.execute_reply.started": "2022-07-27T07:35:32.705326Z"
    }
   },
   "outputs": [
    {
     "name": "stdout",
     "output_type": "stream",
     "text": [
      "32 times\n"
     ]
    }
   ],
   "source": [
    "# How many times is this line said?\n",
    "print('{} times'.format(len(matching_lines)))"
   ]
  },
  {
   "cell_type": "code",
   "execution_count": null,
   "metadata": {},
   "outputs": [],
   "source": []
  },
  {
   "cell_type": "code",
   "execution_count": null,
   "metadata": {},
   "outputs": [],
   "source": []
  }
 ],
 "metadata": {
  "kernelspec": {
   "display_name": "Python 3",
   "language": "python",
   "name": "python3"
  },
  "language_info": {
   "codemirror_mode": {
    "name": "ipython",
    "version": 3
   },
   "file_extension": ".py",
   "mimetype": "text/x-python",
   "name": "python",
   "nbconvert_exporter": "python",
   "pygments_lexer": "ipython3",
   "version": "3.6.6"
  }
 },
 "nbformat": 4,
 "nbformat_minor": 4
}
